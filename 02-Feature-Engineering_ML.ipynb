{
 "cells": [
  {
   "cell_type": "markdown",
   "metadata": {},
   "source": [
    "/////////////////////////////////////////////////////////////////////////////////////////////////////////////////////////////////////////////////////////////////////////////////////////////////////////////////////////////////////////////////////////////////////////////\n",
    "## **0. Machine Learning Pipeline - Feature Engineering**\n",
    "/////////////////////////////////////////////////////////////////////////////////////////////////////////////////////////////////////////////////////////////////////////////////////////////////////////////////////////////////////////////////////////////////////////////"
   ]
  },
  {
   "cell_type": "markdown",
   "metadata": {
    "id": "AMS298As7s-o"
   },
   "source": [
    "        En los siguientes Notebooks, repasaremos la implementación de cada uno de los pasos en la Canalización de Aprendizaje Automático (ML Pipeline).\n",
    "\n",
    "        Discutiremos:\n",
    "\n",
    "        1. Data Analysis\n",
    "        2. **Feature Engineering**\n",
    "        3. Feature Selection\n",
    "        4. Model Training\n",
    "        5. Obtaining Predictions / Scoring\n",
    "\n",
    "\n",
    "        Usaremos el dataset de precios de casas disponible en  [Kaggle.com](https://www.kaggle.com/c/house-prices-advanced-regression-techniques/data). Consulte a continuación para más detalles.\n",
    "\n",
    "        ===================================================================================================\n",
    "\n",
    "        ## Predicción del Precio de Venta de Casas\n",
    "\n",
    "        El objetivo del proyecto es construir un modelo de aprendizaje automático para predecir el precio de venta de viviendas basándose en diferentes variables explicativas que describen aspectos de las casas residenciales.\n",
    "\n",
    "\n",
    "        ### ¿Por qué es esto importante?\n",
    "\n",
    "        Predecir los precios de las casas es útil para identificar inversiones fructíferas o para determinar si el precio anunciado de una casa está sobreestimado o subestimado.\n",
    "\n",
    "        ### ¿Cuál es el objetivo del modelo de aprendizaje automático?\n",
    "\n",
    "        Nuestro objetivo es minimizar la diferencia entre el precio real y el precio estimado por nuestro modelo. Evaluaremos el rendimiento del modelo con el:\n",
    "\n",
    "        1. mean squared error (MSE)\n",
    "        2. root squared of the mean squared error (RMSE)\n",
    "        3. r-squared (R2).\n",
    "\n",
    "\n",
    "        ### ¿Cómo descargo el dataset?\n",
    "\n",
    "        - Visita [Kaggle Website](https://www.kaggle.com/c/house-prices-advanced-regression-techniques/data).\n",
    "\n",
    "        - Recuerda hacer **log in**\n",
    "\n",
    "        - Desplázate hasta el final de la página y haz clic en el enlace **'train.csv'**, , luego haz clic en el botón azul 'descargar' hacia la derecha de la pantalla para descargar el dataset.\n",
    "\n",
    "        - Descarga el archivo llamado **'test.csv'** y guárdalo en el directorio junto con los notebooks.\n",
    "\n",
    "        **Tenga en cuenta lo siguiente:**\n",
    "\n",
    "        -  Necesita estar registrado en Kaggle para poder descargar los datasets.\n",
    "        -  Necesita aceptar los términos y condiciones de la competencia para descargar el dataset\n",
    "        -  Si guarda el archivo en el directorio junto con el cuaderno de Jupyter, entonces podrá ejecutar el código tal como está escrito aquí."
   ]
  },
  {
   "cell_type": "markdown",
   "metadata": {},
   "source": [
    "/////////////////////////////////////////////////////////////////////////////////////////////////////////////////////////////////////////////////////////////////////////////////////////////////////////////////////////////////////////////////////////////////////////////\n",
    "## **I. Carga de librerias**\n",
    "/////////////////////////////////////////////////////////////////////////////////////////////////////////////////////////////////////////////////////////////////////////////////////////////////////////////////////////////////////////////////////////////////////////////"
   ]
  },
  {
   "cell_type": "markdown",
   "metadata": {
    "id": "WqbdH5vL7s-p"
   },
   "source": [
    "##### **Paso 1: Reproducibility: Setting the seed**\n",
    "\n",
    "With the aim to ensure reproducibility between runs of the same notebook, but also between the research and production environment, for each step that includes some element of randomness, it is extremely important that we **set the seed**."
   ]
  },
  {
   "cell_type": "code",
   "execution_count": 1,
   "metadata": {},
   "outputs": [],
   "source": [
    "# ============================ Importación de librerias ============================\n",
    "import pandas as pd\n",
    "import numpy as np\n",
    "import matplotlib.pyplot as plt\n",
    "import seaborn as sns\n",
    "from matplotlib import style\n",
    "import matplotlib.ticker as ticker\n",
    "import seaborn as sns\n",
    "\n",
    "#========================== Librerias de Regresión ==========================\n",
    "#Librerias para mejores subconjuntos\n",
    "import itertools\n",
    "import time\n",
    "from sklearn import linear_model\n",
    "import statsmodels.api as sm\n",
    "from statsmodels.api import OLS, add_constant\n",
    "from sklearn.ensemble import IsolationForest#nos identifica las anomalias\n",
    "from sklearn.linear_model import LinearRegression, Lasso, Ridge\n",
    "from sklearn.ensemble import RandomForestRegressor\n",
    "from sklearn.feature_selection import SelectFromModel\n",
    "#vif\n",
    "from statsmodels.stats.outliers_influence import variance_inflation_factor as vif\n",
    "#========================== Metricas ========================================\n",
    "import sklearn.metrics as metrics\n",
    "from sklearn.metrics import r2_score, mean_squared_error, mean_absolute_error\n",
    "#================== Transformación de datos =================================\n",
    "from sklearn.model_selection import train_test_split, GridSearchCV\n",
    "from sklearn.preprocessing import StandardScaler, OneHotEncoder\n",
    "from sklearn.compose import ColumnTransformer\n",
    "from sklearn.pipeline import Pipeline\n",
    "from sklearn.impute import SimpleImputer\n",
    "from sklearn.decomposition import PCA\n",
    "from xgboost import XGBRegressor\n",
    "from lightgbm import LGBMRegressor\n",
    "from catboost import CatBoostRegressor\n",
    "\n",
    "# para la yeo-johnson transformation\n",
    "import scipy.stats as stats\n",
    "\n",
    "# para mostrar todas las columnas del dataframe en el cuaderno\n",
    "pd.pandas.set_option('display.max_columns', None)\n",
    "\n",
    "#DESCARGAR PICKLE\n",
    "import pickle\n",
    "\n",
    "sns.set(style='whitegrid', context='notebook')\n",
    "plt.style.use('default')"
   ]
  },
  {
   "cell_type": "code",
   "execution_count": 2,
   "metadata": {
    "executionInfo": {
     "elapsed": 5270,
     "status": "ok",
     "timestamp": 1713458444293,
     "user": {
      "displayName": "Luis Fernando Solis Navarro",
      "userId": "12047414360120813726"
     },
     "user_tz": 180
    },
    "id": "b_czg5rZ7s-p"
   },
   "outputs": [],
   "source": [
    "# to handle datasets\n",
    "import pandas as pd\n",
    "import numpy as np\n",
    "\n",
    "# for plotting\n",
    "import matplotlib.pyplot as plt\n",
    "\n",
    "# for the yeo-johnson transformation\n",
    "import scipy.stats as stats\n",
    "\n",
    "# to divide train and test set\n",
    "from sklearn.model_selection import train_test_split\n",
    "\n",
    "# feature scaling\n",
    "from sklearn.preprocessing import MinMaxScaler\n",
    "\n",
    "# to save the trained scaler class\n",
    "import joblib\n",
    "\n",
    "# to visualise al the columns in the dataframe\n",
    "pd.pandas.set_option('display.max_columns', None)"
   ]
  },
  {
   "cell_type": "markdown",
   "metadata": {},
   "source": [
    "/////////////////////////////////////////////////////////////////////////////////////////////////////////////////////////////////////////////////////////////////////////////////////////////////////////////////////////////////////////////////////////////////////////////\n",
    "## **II. Carga de Dataset de Datos**\n",
    "/////////////////////////////////////////////////////////////////////////////////////////////////////////////////////////////////////////////////////////////////////////////////////////////////////////////////////////////////////////////////////////////////////////////"
   ]
  },
  {
   "cell_type": "code",
   "execution_count": 3,
   "metadata": {
    "colab": {
     "base_uri": "https://localhost:8080/",
     "height": 244
    },
    "executionInfo": {
     "elapsed": 946,
     "status": "ok",
     "timestamp": 1713458458000,
     "user": {
      "displayName": "Luis Fernando Solis Navarro",
      "userId": "12047414360120813726"
     },
     "user_tz": 180
    },
    "id": "x3UPzaul7s-q",
    "outputId": "196af75f-2fcd-48f8-9c8a-40a6fca8fe14"
   },
   "outputs": [
    {
     "name": "stdout",
     "output_type": "stream",
     "text": [
      "(1237, 37)\n"
     ]
    },
    {
     "data": {
      "text/html": [
       "<div>\n",
       "<style scoped>\n",
       "    .dataframe tbody tr th:only-of-type {\n",
       "        vertical-align: middle;\n",
       "    }\n",
       "\n",
       "    .dataframe tbody tr th {\n",
       "        vertical-align: top;\n",
       "    }\n",
       "\n",
       "    .dataframe thead th {\n",
       "        text-align: right;\n",
       "    }\n",
       "</style>\n",
       "<table border=\"1\" class=\"dataframe\">\n",
       "  <thead>\n",
       "    <tr style=\"text-align: right;\">\n",
       "      <th></th>\n",
       "      <th>FECHAENSAYO</th>\n",
       "      <th>Al2O3</th>\n",
       "      <th>C3A</th>\n",
       "      <th>C4AF</th>\n",
       "      <th>CaCO3</th>\n",
       "      <th>CaO</th>\n",
       "      <th>Cal Libre</th>\n",
       "      <th>Caliza</th>\n",
       "      <th>Cl</th>\n",
       "      <th>Consistencia Normal</th>\n",
       "      <th>Contracción en autoclave</th>\n",
       "      <th>Expansión en autoclave</th>\n",
       "      <th>Fe2O3</th>\n",
       "      <th>Fluidez</th>\n",
       "      <th>Fraguado final</th>\n",
       "      <th>Fraguado inicial</th>\n",
       "      <th>H2O Pasta</th>\n",
       "      <th>H2O mortero</th>\n",
       "      <th>K2O</th>\n",
       "      <th>MgO</th>\n",
       "      <th>Na2O</th>\n",
       "      <th>Polvo Filtro</th>\n",
       "      <th>Puzolana</th>\n",
       "      <th>Pérdida por ignición</th>\n",
       "      <th>RC 1 día</th>\n",
       "      <th>Reproceso</th>\n",
       "      <th>Residuo insoluble</th>\n",
       "      <th>Retenido M325</th>\n",
       "      <th>Retenido M450</th>\n",
       "      <th>SO3</th>\n",
       "      <th>SiO2</th>\n",
       "      <th>Superficie específica</th>\n",
       "      <th>Yeso</th>\n",
       "      <th>Álcalis Equivalentes</th>\n",
       "      <th>Tipo_Cemento</th>\n",
       "      <th>C3S</th>\n",
       "      <th>Periodo</th>\n",
       "    </tr>\n",
       "  </thead>\n",
       "  <tbody>\n",
       "    <tr>\n",
       "      <th>0</th>\n",
       "      <td>2024-01-02</td>\n",
       "      <td>4.6</td>\n",
       "      <td>7.30</td>\n",
       "      <td>8.86</td>\n",
       "      <td>5.29</td>\n",
       "      <td>62.5</td>\n",
       "      <td>1.5</td>\n",
       "      <td>3.35</td>\n",
       "      <td>0.047</td>\n",
       "      <td>25.1</td>\n",
       "      <td>NaN</td>\n",
       "      <td>0.14</td>\n",
       "      <td>2.91</td>\n",
       "      <td>119.0</td>\n",
       "      <td>235.0</td>\n",
       "      <td>114.0</td>\n",
       "      <td>163.0</td>\n",
       "      <td>359.0</td>\n",
       "      <td>0.77</td>\n",
       "      <td>2.3</td>\n",
       "      <td>0.34</td>\n",
       "      <td>NaN</td>\n",
       "      <td>NaN</td>\n",
       "      <td>2.88</td>\n",
       "      <td>2250.0</td>\n",
       "      <td>NaN</td>\n",
       "      <td>0.84</td>\n",
       "      <td>1.2</td>\n",
       "      <td>6.8</td>\n",
       "      <td>2.90</td>\n",
       "      <td>20.1</td>\n",
       "      <td>4130.0</td>\n",
       "      <td>6.11</td>\n",
       "      <td>0.85</td>\n",
       "      <td>I</td>\n",
       "      <td>52.12</td>\n",
       "      <td>202401</td>\n",
       "    </tr>\n",
       "    <tr>\n",
       "      <th>1</th>\n",
       "      <td>2024-01-03</td>\n",
       "      <td>4.7</td>\n",
       "      <td>7.62</td>\n",
       "      <td>8.87</td>\n",
       "      <td>5.40</td>\n",
       "      <td>62.4</td>\n",
       "      <td>1.4</td>\n",
       "      <td>3.40</td>\n",
       "      <td>0.044</td>\n",
       "      <td>25.2</td>\n",
       "      <td>NaN</td>\n",
       "      <td>0.10</td>\n",
       "      <td>2.91</td>\n",
       "      <td>119.0</td>\n",
       "      <td>235.0</td>\n",
       "      <td>113.0</td>\n",
       "      <td>164.0</td>\n",
       "      <td>359.0</td>\n",
       "      <td>0.76</td>\n",
       "      <td>2.2</td>\n",
       "      <td>0.33</td>\n",
       "      <td>NaN</td>\n",
       "      <td>NaN</td>\n",
       "      <td>2.58</td>\n",
       "      <td>2240.0</td>\n",
       "      <td>NaN</td>\n",
       "      <td>0.87</td>\n",
       "      <td>1.2</td>\n",
       "      <td>6.8</td>\n",
       "      <td>2.82</td>\n",
       "      <td>19.8</td>\n",
       "      <td>4080.0</td>\n",
       "      <td>5.88</td>\n",
       "      <td>0.83</td>\n",
       "      <td>I</td>\n",
       "      <td>53.42</td>\n",
       "      <td>202401</td>\n",
       "    </tr>\n",
       "    <tr>\n",
       "      <th>2</th>\n",
       "      <td>2024-01-04</td>\n",
       "      <td>5.4</td>\n",
       "      <td>9.99</td>\n",
       "      <td>7.77</td>\n",
       "      <td>16.11</td>\n",
       "      <td>50.7</td>\n",
       "      <td>0.9</td>\n",
       "      <td>23.00</td>\n",
       "      <td>0.027</td>\n",
       "      <td>28.3</td>\n",
       "      <td>NaN</td>\n",
       "      <td>0.05</td>\n",
       "      <td>2.55</td>\n",
       "      <td>106.0</td>\n",
       "      <td>290.0</td>\n",
       "      <td>186.0</td>\n",
       "      <td>184.0</td>\n",
       "      <td>388.0</td>\n",
       "      <td>1.01</td>\n",
       "      <td>2.1</td>\n",
       "      <td>0.29</td>\n",
       "      <td>NaN</td>\n",
       "      <td>8.0</td>\n",
       "      <td>9.85</td>\n",
       "      <td>1300.0</td>\n",
       "      <td>0.0</td>\n",
       "      <td>NaN</td>\n",
       "      <td>1.6</td>\n",
       "      <td>7.6</td>\n",
       "      <td>2.47</td>\n",
       "      <td>21.9</td>\n",
       "      <td>6100.0</td>\n",
       "      <td>4.75</td>\n",
       "      <td>0.95</td>\n",
       "      <td>ICo</td>\n",
       "      <td>27.40</td>\n",
       "      <td>202401</td>\n",
       "    </tr>\n",
       "  </tbody>\n",
       "</table>\n",
       "</div>"
      ],
      "text/plain": [
       "  FECHAENSAYO  Al2O3   C3A  C4AF  CaCO3   CaO  Cal Libre  Caliza     Cl  \\\n",
       "0  2024-01-02    4.6  7.30  8.86   5.29  62.5        1.5    3.35  0.047   \n",
       "1  2024-01-03    4.7  7.62  8.87   5.40  62.4        1.4    3.40  0.044   \n",
       "2  2024-01-04    5.4  9.99  7.77  16.11  50.7        0.9   23.00  0.027   \n",
       "\n",
       "   Consistencia Normal  Contracción en autoclave  Expansión en autoclave  \\\n",
       "0                 25.1                       NaN                    0.14   \n",
       "1                 25.2                       NaN                    0.10   \n",
       "2                 28.3                       NaN                    0.05   \n",
       "\n",
       "   Fe2O3  Fluidez  Fraguado final  Fraguado inicial  H2O Pasta  H2O mortero  \\\n",
       "0   2.91    119.0           235.0             114.0      163.0        359.0   \n",
       "1   2.91    119.0           235.0             113.0      164.0        359.0   \n",
       "2   2.55    106.0           290.0             186.0      184.0        388.0   \n",
       "\n",
       "    K2O  MgO  Na2O  Polvo Filtro  Puzolana  Pérdida por ignición  RC 1 día  \\\n",
       "0  0.77  2.3  0.34           NaN       NaN                  2.88    2250.0   \n",
       "1  0.76  2.2  0.33           NaN       NaN                  2.58    2240.0   \n",
       "2  1.01  2.1  0.29           NaN       8.0                  9.85    1300.0   \n",
       "\n",
       "   Reproceso  Residuo insoluble  Retenido M325  Retenido M450   SO3  SiO2  \\\n",
       "0        NaN               0.84            1.2            6.8  2.90  20.1   \n",
       "1        NaN               0.87            1.2            6.8  2.82  19.8   \n",
       "2        0.0                NaN            1.6            7.6  2.47  21.9   \n",
       "\n",
       "   Superficie específica  Yeso  Álcalis Equivalentes Tipo_Cemento    C3S  \\\n",
       "0                 4130.0  6.11                  0.85            I  52.12   \n",
       "1                 4080.0  5.88                  0.83            I  53.42   \n",
       "2                 6100.0  4.75                  0.95          ICo  27.40   \n",
       "\n",
       "   Periodo  \n",
       "0   202401  \n",
       "1   202401  \n",
       "2   202401  "
      ]
     },
     "execution_count": 3,
     "metadata": {},
     "output_type": "execute_result"
    }
   ],
   "source": [
    "# cargar dataset\n",
    "data = pd.read_csv('./Input/data_mod_ttv.csv')\n",
    "\n",
    "# filas y columnas del dataset\n",
    "print(data.shape)\n",
    "\n",
    "# visualise the dataset\n",
    "data.head(3)"
   ]
  },
  {
   "cell_type": "code",
   "execution_count": 4,
   "metadata": {},
   "outputs": [
    {
     "data": {
      "text/plain": [
       "(1237, 37)"
      ]
     },
     "execution_count": 4,
     "metadata": {},
     "output_type": "execute_result"
    }
   ],
   "source": [
    "data.shape"
   ]
  },
  {
   "cell_type": "markdown",
   "metadata": {},
   "source": [
    "/////////////////////////////////////////////////////////////////////////////////////////////////////////////////////////////////////////////////////////////////////////////////////////////////////////////////////////////////////////////////////////////////////////////\n",
    "## **III. Tratamiento de Datos**\n",
    "/////////////////////////////////////////////////////////////////////////////////////////////////////////////////////////////////////////////////////////////////////////////////////////////////////////////////////////////////////////////////////////////////////////////"
   ]
  },
  {
   "cell_type": "markdown",
   "metadata": {},
   "source": [
    "------------------------------------------------------------------------------------\n",
    "#### **3.1. Eliminación de variables de baja variabilidad e Imputación de valores nulls**\n",
    "------------------------------------------------------------------------------------"
   ]
  },
  {
   "cell_type": "code",
   "execution_count": 5,
   "metadata": {},
   "outputs": [
    {
     "name": "stdout",
     "output_type": "stream",
     "text": [
      "FECHAENSAYO                    0\n",
      "Al2O3                          1\n",
      "C3A                            1\n",
      "C4AF                           1\n",
      "CaCO3                          1\n",
      "CaO                            1\n",
      "Cal Libre                      1\n",
      "Caliza                         0\n",
      "Cl                             1\n",
      "Consistencia Normal            0\n",
      "Contracción en autoclave    1236\n",
      "Expansión en autoclave      1027\n",
      "Fe2O3                          1\n",
      "Fluidez                        0\n",
      "Fraguado final                 0\n",
      "Fraguado inicial               0\n",
      "H2O Pasta                      0\n",
      "H2O mortero                    0\n",
      "K2O                            1\n",
      "MgO                            1\n",
      "Na2O                           1\n",
      "Polvo Filtro                 993\n",
      "Puzolana                     382\n",
      "Pérdida por ignición           1\n",
      "RC 1 día                       0\n",
      "Reproceso                    382\n",
      "Residuo insoluble            856\n",
      "Retenido M325                  0\n",
      "Retenido M450                  0\n",
      "SO3                            1\n",
      "SiO2                           1\n",
      "Superficie específica          0\n",
      "Yeso                           0\n",
      "Álcalis Equivalentes           1\n",
      "Tipo_Cemento                   0\n",
      "C3S                            0\n",
      "Periodo                        0\n",
      "dtype: int64\n"
     ]
    },
    {
     "name": "stderr",
     "output_type": "stream",
     "text": [
      "C:\\Users\\enriq\\AppData\\Local\\Temp\\ipykernel_4788\\2953486249.py:22: FutureWarning: A value is trying to be set on a copy of a DataFrame or Series through chained assignment using an inplace method.\n",
      "The behavior will change in pandas 3.0. This inplace method will never work because the intermediate object on which we are setting values always behaves as a copy.\n",
      "\n",
      "For example, when doing 'df[col].method(value, inplace=True)', try using 'df.method({col: value}, inplace=True)' or df[col] = df[col].method(value) instead, to perform the operation inplace on the original object.\n",
      "\n",
      "\n",
      "  dfsinnull[column].fillna(0, inplace=True)  # Imputación con la media\n"
     ]
    }
   ],
   "source": [
    "#----------------------------------------------------------------------------------------\n",
    "# 2.1 Identificación de valores nulos\n",
    "#----------------------------------------------------------------------------------------\n",
    "dfsinnull = data.copy()\n",
    "print(dfsinnull.isnull().sum())\n",
    "\n",
    "#----------------------------------------------------------------------------------------\n",
    "# 2.2 Definir un umbral del 30% para eliminar columnas con muchos valores nulos\n",
    "#----------------------------------------------------------------------------------------\n",
    "threshold = 0.99  # Umbral del 30%\n",
    "dfsinnull = dfsinnull.loc[:, dfsinnull.isnull().mean() < threshold]\n",
    "\n",
    "#----------------------------------------------------------------------------------------\n",
    "# 2.3 Imputación de valores nulos según la variable\n",
    "#----------------------------------------------------------------------------------------\n",
    "for column in dfsinnull.columns:\n",
    "    if dfsinnull[column].isnull().sum() > 0:\n",
    "        if dfsinnull[column].dtype == 'object':  # Para variables categóricas\n",
    "            dfsinnull[column].fillna(dfsinnull[column].mode()[0], inplace=True)  # Imputación con la moda\n",
    "        else:\n",
    "            # Prueba con diferentes métodos de imputación\n",
    "            dfsinnull[column].fillna(0, inplace=True)  # Imputación con la media\n",
    "            #dfsinnull[column].fillna(dfsinnull[column].mean(), inplace=True)  # Imputación con la media"
   ]
  },
  {
   "cell_type": "code",
   "execution_count": 6,
   "metadata": {},
   "outputs": [
    {
     "name": "stdout",
     "output_type": "stream",
     "text": [
      "Columnas eliminadas: {'Contracción en autoclave'}\n"
     ]
    }
   ],
   "source": [
    "columnas_eliminadas = set(data) - set(dfsinnull.columns)\n",
    "print(\"Columnas eliminadas:\", columnas_eliminadas)"
   ]
  },
  {
   "cell_type": "markdown",
   "metadata": {},
   "source": [
    "------------------------------------------------------------------------------------\n",
    "#### **2.3. Limpieza de Datos - Resistencia 1 día**\n",
    "------------------------------------------------------------------------------------\n",
    "\n",
    "*Se busca identificar si la distribución de la variable target \"Valor Laboratorio\" presenta una distribución diferente ante la totalidad de todas las variables*\n"
   ]
  },
  {
   "cell_type": "code",
   "execution_count": 7,
   "metadata": {},
   "outputs": [],
   "source": [
    "df_prueba_ = dfsinnull"
   ]
  },
  {
   "cell_type": "code",
   "execution_count": 8,
   "metadata": {},
   "outputs": [
    {
     "name": "stdout",
     "output_type": "stream",
     "text": [
      "Antes de atípicos:  (1237, 36)\n",
      "Después de atípicos:  (1218, 36)\n"
     ]
    }
   ],
   "source": [
    "#====================================================================================================================\n",
    "#=============  ELIMINAR RC 1 DÍA QUE NO CUMPLAN CON PROM +- 1.5 DESVIACIÓN=========================================\n",
    "#====================================================================================================================\n",
    "df0 = df_prueba_ #df_prueba_ICo_tt, aquí la data solo se realiza con la data de entrenamiento\n",
    "\n",
    "columna_cemento = 'Tipo_Cemento'\n",
    "columna_rcNdias = 'RC 1 día'\n",
    "\n",
    "df0 = df0[df0[columna_rcNdias] > 0]\n",
    "print('Antes de atípicos: ', df0.shape)\n",
    "\n",
    "# Crear una función para eliminar outliers por \"Tipo de Cemento\"\n",
    "def eliminar_outliers_por_categoria(df, columna_cemento, columna_rcNdias):\n",
    "    df_sin_outliers = pd.DataFrame()\n",
    "    for categoria in df[columna_cemento].unique():\n",
    "        # Filtrar por categoría\n",
    "        sub_df = df[df[columna_cemento] == categoria]\n",
    "        # Calcular IQR\n",
    "        Q1 = sub_df[columna_rcNdias].quantile(0.25)\n",
    "        Q3 = sub_df[columna_rcNdias].quantile(0.75)\n",
    "        IQR = Q3 - Q1 #sub_df.apply(stats.iqr) #Q3 - Q1\n",
    "        # Definir límites\n",
    "        limite_inferior = Q1 - 1.5 * IQR\n",
    "        limite_superior = Q3 + 1.5 * IQR\n",
    "        # Filtrar outliers y agregar al DataFrame resultante\n",
    "        sub_df_sin_outliers = sub_df[(sub_df[columna_rcNdias] >= limite_inferior) & (sub_df[columna_rcNdias] <= limite_superior)]\n",
    "        df_sin_outliers = pd.concat([df_sin_outliers, sub_df_sin_outliers])\n",
    "    return df_sin_outliers\n",
    "\n",
    "# Aplicar la función\n",
    "df_train_test_val_so = eliminar_outliers_por_categoria(df0, columna_cemento, columna_rcNdias)\n",
    "\n",
    "# Imprimir el tamaño después de eliminar los valores atípicos\n",
    "print('Después de atípicos: ', df_train_test_val_so.shape)"
   ]
  },
  {
   "cell_type": "code",
   "execution_count": 9,
   "metadata": {},
   "outputs": [
    {
     "data": {
      "text/plain": [
       "array(['I', 'ICo', 'MS(MH)'], dtype=object)"
      ]
     },
     "execution_count": 9,
     "metadata": {},
     "output_type": "execute_result"
    }
   ],
   "source": [
    "df_train_test_val_so['Tipo_Cemento'].unique()"
   ]
  },
  {
   "cell_type": "markdown",
   "metadata": {},
   "source": [
    "------------------------------------------------------------------------------------\n",
    "#### **3.2. Separación de data Train-Test-val por Tipo de Cemento**\n",
    "------------------------------------------------------------------------------------"
   ]
  },
  {
   "cell_type": "code",
   "execution_count": 10,
   "metadata": {},
   "outputs": [
    {
     "name": "stdout",
     "output_type": "stream",
     "text": [
      "Data de Train, Test y Val: Del 2024-01-02 00:00:00 al 2025-01-06 00:00:00 (1043, 36)\n"
     ]
    }
   ],
   "source": [
    "#====================================================================================================================\n",
    "# Convertir la columna FECHAENSAYO a formato datetime\n",
    "#====================================================================================================================\n",
    "df_train_test_val_so['FECHAENSAYO'] = pd.to_datetime(df_train_test_val_so['FECHAENSAYO'], format='%Y-%m-%d')\n",
    "\n",
    "#====================================================================================================================\n",
    "# DEFINIR LA FECHA DE CORTE PARA VALIDACIÓN (4 días antes del día actual)\n",
    "#====================================================================================================================\n",
    "# Definir la fecha actual\n",
    "fecha_actual = pd.Timestamp.now()\n",
    "\n",
    "#====================================================================================================================\n",
    "# Definir la fecha de corte como 4 días antes del día actual\n",
    "#====================================================================================================================\n",
    "fecha_corte = fecha_actual - pd.Timedelta(days=1)\n",
    "\n",
    "# Definir la fecha de inicio de validación (se calcula restando 4 días a la fecha actual)\n",
    "fecha_inicio_validacion = fecha_corte - pd.Timedelta(days=65)\n",
    "\n",
    "#====================================================================================================================\n",
    "# SEPARAR DATA DE ENTRENAMIENTOaaaa\n",
    "#====================================================================================================================\n",
    "# Datos de entrenamiento: registros anteriores al rango de validación\n",
    "df_train_test_so = df_train_test_val_so.loc[df_train_test_val_so['FECHAENSAYO'] < fecha_inicio_validacion]\n",
    "\n",
    "#====================================================================================================================\n",
    "# SEPARAR DATA DE VALIDACIÓN\n",
    "#====================================================================================================================\n",
    "# Datos de validación: registros entre fecha_inicio_validacion y fecha_corte\n",
    "df_val_so = df_train_test_val_so.loc[\n",
    "    (df_train_test_val_so['FECHAENSAYO'] >= fecha_inicio_validacion) &\n",
    "    (df_train_test_val_so['FECHAENSAYO'] <= fecha_corte)\n",
    "]\n",
    "\n",
    "# #====================================================================================================================\n",
    "# # IDENTIFICACION DE FECHAS DE DATA\n",
    "# #====================================================================================================================\n",
    "from datetime import datetime\n",
    "print(\"Data de Train, Test y Val: Del\", pd.to_datetime(df_train_test_so['FECHAENSAYO'].min()),'al', df_train_test_so['FECHAENSAYO'].max(), df_train_test_so.shape) "
   ]
  },
  {
   "cell_type": "code",
   "execution_count": 11,
   "metadata": {},
   "outputs": [
    {
     "name": "stdout",
     "output_type": "stream",
     "text": [
      "Data de Train, Test: Del 2024-01-02 00:00:00 al 2025-01-06 00:00:00 (1043, 36)\n"
     ]
    }
   ],
   "source": [
    "# #====================================================================================================================\n",
    "# # IDENTIFICACION DE FECHAS DE DATA\n",
    "# #====================================================================================================================\n",
    "from datetime import datetime\n",
    "print(\"Data de Train, Test: Del\", pd.to_datetime(df_train_test_so['FECHAENSAYO'].min()),'al', df_train_test_so['FECHAENSAYO'].max(), df_train_test_so.shape) \n",
    "# print(\"Data de Validación:   Del\", df_val['FECHAENSAYO'].min(),'al', df_val['FECHAENSAYO'].max() , df_val.shape)"
   ]
  },
  {
   "cell_type": "code",
   "execution_count": 12,
   "metadata": {},
   "outputs": [
    {
     "name": "stdout",
     "output_type": "stream",
     "text": [
      "(264, 36) (466, 36) (313, 36)\n",
      "(44, 36) (76, 36) (55, 36)\n"
     ]
    }
   ],
   "source": [
    "df_prueba_MS_tt = df_train_test_so[df_train_test_so['Tipo_Cemento'].isin(['MS(MH)'])]\n",
    "df_prueba_ICo_tt = df_train_test_so[df_train_test_so['Tipo_Cemento'].isin(['ICo'])]\n",
    "df_prueba_I_tt = df_train_test_so[df_train_test_so['Tipo_Cemento'].isin(['I'])]\n",
    "\n",
    "df_prueba_MS_val = df_val_so[df_val_so['Tipo_Cemento'].isin(['MS(MH)'])]\n",
    "df_prueba_ICo_val = df_val_so[df_val_so['Tipo_Cemento'].isin(['ICo'])]\n",
    "df_prueba_I_val = df_val_so[df_val_so['Tipo_Cemento'].isin(['I'])]\n",
    "\n",
    "#**Con esta data se harán las construcciones de los modelos a y las pruebas de Test a fin de validar que mantienen su performance con la historia registrada**\n",
    "print(df_prueba_MS_tt.shape, df_prueba_ICo_tt.shape, df_prueba_I_tt.shape)\n",
    "#**Con esta data se harán las pruebas de validaciones de los modelos a fin de validar que mantienen su performance pasado los meses**\n",
    "print(df_prueba_MS_val.shape, df_prueba_ICo_val.shape, df_prueba_I_val.shape)"
   ]
  },
  {
   "cell_type": "code",
   "execution_count": 13,
   "metadata": {},
   "outputs": [
    {
     "data": {
      "text/html": [
       "<div>\n",
       "<style scoped>\n",
       "    .dataframe tbody tr th:only-of-type {\n",
       "        vertical-align: middle;\n",
       "    }\n",
       "\n",
       "    .dataframe tbody tr th {\n",
       "        vertical-align: top;\n",
       "    }\n",
       "\n",
       "    .dataframe thead th {\n",
       "        text-align: right;\n",
       "    }\n",
       "</style>\n",
       "<table border=\"1\" class=\"dataframe\">\n",
       "  <thead>\n",
       "    <tr style=\"text-align: right;\">\n",
       "      <th></th>\n",
       "      <th>FECHAENSAYO</th>\n",
       "      <th>Al2O3</th>\n",
       "      <th>C3A</th>\n",
       "      <th>C4AF</th>\n",
       "      <th>CaCO3</th>\n",
       "      <th>CaO</th>\n",
       "      <th>Cal Libre</th>\n",
       "      <th>Caliza</th>\n",
       "      <th>Cl</th>\n",
       "      <th>Consistencia Normal</th>\n",
       "      <th>Expansión en autoclave</th>\n",
       "      <th>Fe2O3</th>\n",
       "      <th>Fluidez</th>\n",
       "      <th>Fraguado final</th>\n",
       "      <th>Fraguado inicial</th>\n",
       "      <th>H2O Pasta</th>\n",
       "      <th>H2O mortero</th>\n",
       "      <th>K2O</th>\n",
       "      <th>MgO</th>\n",
       "      <th>Na2O</th>\n",
       "      <th>Polvo Filtro</th>\n",
       "      <th>Puzolana</th>\n",
       "      <th>Pérdida por ignición</th>\n",
       "      <th>RC 1 día</th>\n",
       "      <th>Reproceso</th>\n",
       "      <th>Residuo insoluble</th>\n",
       "      <th>Retenido M325</th>\n",
       "      <th>Retenido M450</th>\n",
       "      <th>SO3</th>\n",
       "      <th>SiO2</th>\n",
       "      <th>Superficie específica</th>\n",
       "      <th>Yeso</th>\n",
       "      <th>Álcalis Equivalentes</th>\n",
       "      <th>Tipo_Cemento</th>\n",
       "      <th>C3S</th>\n",
       "      <th>Periodo</th>\n",
       "    </tr>\n",
       "  </thead>\n",
       "  <tbody>\n",
       "    <tr>\n",
       "      <th>0</th>\n",
       "      <td>2024-01-04</td>\n",
       "      <td>5.4</td>\n",
       "      <td>9.99</td>\n",
       "      <td>7.77</td>\n",
       "      <td>16.11</td>\n",
       "      <td>50.7</td>\n",
       "      <td>0.9</td>\n",
       "      <td>23.0</td>\n",
       "      <td>0.027</td>\n",
       "      <td>28.3</td>\n",
       "      <td>0.05</td>\n",
       "      <td>2.55</td>\n",
       "      <td>106.0</td>\n",
       "      <td>290.0</td>\n",
       "      <td>186.0</td>\n",
       "      <td>184.0</td>\n",
       "      <td>388.0</td>\n",
       "      <td>1.01</td>\n",
       "      <td>2.1</td>\n",
       "      <td>0.29</td>\n",
       "      <td>0.0</td>\n",
       "      <td>8.0</td>\n",
       "      <td>9.85</td>\n",
       "      <td>1300.0</td>\n",
       "      <td>0.0</td>\n",
       "      <td>0.0</td>\n",
       "      <td>1.6</td>\n",
       "      <td>7.6</td>\n",
       "      <td>2.47</td>\n",
       "      <td>21.9</td>\n",
       "      <td>6100.0</td>\n",
       "      <td>4.75</td>\n",
       "      <td>0.95</td>\n",
       "      <td>ICo</td>\n",
       "      <td>27.4</td>\n",
       "      <td>202401</td>\n",
       "    </tr>\n",
       "  </tbody>\n",
       "</table>\n",
       "</div>"
      ],
      "text/plain": [
       "  FECHAENSAYO  Al2O3   C3A  C4AF  CaCO3   CaO  Cal Libre  Caliza     Cl  \\\n",
       "0  2024-01-04    5.4  9.99  7.77  16.11  50.7        0.9    23.0  0.027   \n",
       "\n",
       "   Consistencia Normal  Expansión en autoclave  Fe2O3  Fluidez  \\\n",
       "0                 28.3                    0.05   2.55    106.0   \n",
       "\n",
       "   Fraguado final  Fraguado inicial  H2O Pasta  H2O mortero   K2O  MgO  Na2O  \\\n",
       "0           290.0             186.0      184.0        388.0  1.01  2.1  0.29   \n",
       "\n",
       "   Polvo Filtro  Puzolana  Pérdida por ignición  RC 1 día  Reproceso  \\\n",
       "0           0.0       8.0                  9.85    1300.0        0.0   \n",
       "\n",
       "   Residuo insoluble  Retenido M325  Retenido M450   SO3  SiO2  \\\n",
       "0                0.0            1.6            7.6  2.47  21.9   \n",
       "\n",
       "   Superficie específica  Yeso  Álcalis Equivalentes Tipo_Cemento   C3S  \\\n",
       "0                 6100.0  4.75                  0.95          ICo  27.4   \n",
       "\n",
       "   Periodo  \n",
       "0   202401  "
      ]
     },
     "execution_count": 13,
     "metadata": {},
     "output_type": "execute_result"
    }
   ],
   "source": [
    "#====================================================================================================================\n",
    "# Definir Tipo de Cemento y periodo de entrenamiento\n",
    "#====================================================================================================================\n",
    "# Se nombra un dataframe para el tipo de cemento a trabajar\n",
    "df_data = df_prueba_ICo_tt.loc[df_prueba_ICo_tt['FECHAENSAYO'] >= '2024-01-01'] #df_train_test\n",
    "df_data = df_data.reset_index(drop=True)\n",
    "df_data.head(1)"
   ]
  },
  {
   "cell_type": "code",
   "execution_count": 14,
   "metadata": {},
   "outputs": [
    {
     "name": "stdout",
     "output_type": "stream",
     "text": [
      "⚠️ La columna 'Expansión en autoclave' tiene un 79.6% de ceros. No se aplicará imputación.\n",
      "⚠️ La columna 'Polvo Filtro' tiene un 85.2% de ceros. No se aplicará imputación.\n",
      "⚠️ La columna 'Reproceso' tiene un 100.0% de ceros. No se aplicará imputación.\n",
      "⚠️ La columna 'Residuo insoluble' tiene un 100.0% de ceros. No se aplicará imputación.\n",
      "            CaCO3         CaO   Cal Libre      Caliza          Cl  \\\n",
      "count  466.000000  466.000000  466.000000  466.000000  466.000000   \n",
      "mean    17.923686   54.990558    0.745279   27.393326    0.021929   \n",
      "std      1.118778    2.738337    0.091753    2.303841    0.004742   \n",
      "min     15.350000   50.400000    0.600000   22.500000    0.000000   \n",
      "25%     17.137500   52.500000    0.700000   26.500000    0.020000   \n",
      "50%     17.940000   54.150000    0.700000   27.500000    0.022000   \n",
      "75%     18.675625   57.775000    0.800000   30.150000    0.025000   \n",
      "max     20.760000   61.800000    0.900000   30.650000    0.032000   \n",
      "\n",
      "       Consistencia Normal  Expansión en autoclave       Fe2O3     Fluidez  \\\n",
      "count           466.000000              466.000000  466.000000  466.000000   \n",
      "mean             26.393348                0.011953    2.422897  107.577253   \n",
      "std               1.407040                0.024342    0.098302    1.640691   \n",
      "min              24.000000                0.000000    2.150000  106.000000   \n",
      "25%              24.800000                0.000000    2.350000  106.000000   \n",
      "50%              27.100000                0.000000    2.430000  107.000000   \n",
      "75%              27.500000                0.000000    2.500000  109.000000   \n",
      "max              28.900000                0.100000    2.720000  113.000000   \n",
      "\n",
      "       Fraguado final  Fraguado inicial   H2O Pasta  H2O mortero         K2O  \\\n",
      "count      466.000000        466.000000  466.000000   466.000000  466.000000   \n",
      "mean       267.103004        156.733906  171.560086   368.899142    0.827618   \n",
      "std         14.586712         15.568165    9.183297    12.921954    0.108104   \n",
      "min        235.000000        124.000000  156.000000   346.000000    0.600000   \n",
      "25%        255.000000        143.000000  161.000000   355.000000    0.710000   \n",
      "50%        270.000000        158.000000  176.000000   373.000000    0.880000   \n",
      "75%        280.000000        169.000000  179.000000   379.000000    0.910000   \n",
      "max        305.000000        200.000000  188.000000   391.000000    1.030000   \n",
      "\n",
      "              MgO        Na2O  Polvo Filtro    Puzolana  Pérdida por ignición  \\\n",
      "count  466.000000  466.000000    466.000000  466.000000            466.000000   \n",
      "mean     2.042918    0.288004      0.141094    5.216159             11.679056   \n",
      "std      0.094147    0.023124      0.342484    3.693000              0.930996   \n",
      "min      1.900000    0.230000      0.000000    0.000000              9.330000   \n",
      "25%      2.000000    0.270000      0.000000    0.000000             11.032500   \n",
      "50%      2.000000    0.290000      0.000000    8.000000             11.740000   \n",
      "75%      2.100000    0.300000      0.000000    8.000000             12.385000   \n",
      "max      2.200000    0.340000      1.000000    9.000000             14.320000   \n",
      "\n",
      "          RC 1 día  Reproceso  Residuo insoluble  Retenido M325  \\\n",
      "count   466.000000      466.0              466.0     466.000000   \n",
      "mean   1526.459227        0.0                0.0       2.326180   \n",
      "std     219.529593        0.0                0.0       0.530248   \n",
      "min    1130.000000        0.0                0.0       1.200000   \n",
      "25%    1352.500000        0.0                0.0       2.000000   \n",
      "50%    1440.000000        0.0                0.0       2.400000   \n",
      "75%    1730.000000        0.0                0.0       2.800000   \n",
      "max    2030.000000        0.0                0.0       3.600000   \n",
      "\n",
      "       Retenido M450         SO3        SiO2  Superficie específica  \\\n",
      "count     466.000000  466.000000  466.000000             466.000000   \n",
      "mean        9.030472    2.373090   19.909657            5898.669528   \n",
      "std         1.295490    0.081491    1.823235             264.572591   \n",
      "min         5.200000    2.170000   16.100000            5220.000000   \n",
      "25%         8.000000    2.320000   17.925000            5740.000000   \n",
      "50%         9.200000    2.370000   20.800000            5935.000000   \n",
      "75%        10.000000    2.430000   21.500000            6087.500000   \n",
      "max        12.800000    2.590000   22.600000            6430.000000   \n",
      "\n",
      "             Yeso  Álcalis Equivalentes         C3S        Periodo  \n",
      "count  466.000000            466.000000  466.000000     466.000000  \n",
      "mean     4.621180              0.832983   30.231738  202406.645923  \n",
      "std      0.223701              0.086970    3.673472       3.452466  \n",
      "min      4.090000              0.640000   21.550000  202401.000000  \n",
      "25%      4.450000              0.740000   27.442500  202404.000000  \n",
      "50%      4.600000              0.860000   30.310000  202407.000000  \n",
      "75%      4.787500              0.900000   33.085000  202410.000000  \n",
      "max      5.250000              1.010000   40.780000  202412.000000  \n"
     ]
    }
   ],
   "source": [
    "# //////////////////////////////////////////////////////////////////////////////\n",
    "# 3. Tratamiento de datos\n",
    "# //////////////////////////////////////////////////////////////////////////////\n",
    "\n",
    "columns_var = df_data.select_dtypes(include=[np.number]).columns\n",
    "# columns_var = columns_var.drop('Año')\n",
    "columns_var = columns_var.drop('Periodo')\n",
    "# columns_var = columns_var.drop('RC 3 días')\n",
    "# columns_var = columns_var.drop('RC 7 días')\n",
    "# columns_var = columns_var.drop('RC 28 días')\n",
    "\n",
    "#dato_new_numeric = pd.DataFrame(df_data.iloc[:,4:])\n",
    "dato_new_numeric = pd.DataFrame(df_data[columns_var])\n",
    "\n",
    "import pandas as pd\n",
    "import numpy as np\n",
    "\n",
    "def clean_data_v6(df, zero_threshold=0.7, min_nonzero_values=5):\n",
    "    \"\"\"\n",
    "    Función que corrige outliers usando cuartiles, pero:\n",
    "    - No imputa ceros históricos.\n",
    "    - No imputa columnas con demasiados ceros (>zero_threshold).\n",
    "    - No imputa columnas con pocos valores distintos de cero (min_nonzero_values).\n",
    "    - Solo reemplaza valores outliers distintos de cero usando cuartiles.\n",
    "    \"\"\"\n",
    "    columnas_numeric = df.select_dtypes(include=[np.number]).columns\n",
    "\n",
    "    for colum in columnas_numeric:\n",
    "        # Contar cantidad de valores cero y valores distintos de cero\n",
    "        num_zeros = (df[colum] == 0).sum()\n",
    "        num_nonzero_values = (df[colum] != 0).sum()\n",
    "        total_values = len(df[colum])\n",
    "\n",
    "        # Evaluar si la columna tiene un alto porcentaje de ceros\n",
    "        zero_percentage = num_zeros / total_values\n",
    "\n",
    "        # Evaluar si la columna tiene pocos valores distintos de cero\n",
    "        if zero_percentage > zero_threshold:\n",
    "            print(f\"⚠️ La columna '{colum}' tiene un {zero_percentage:.1%} de ceros. No se aplicará imputación.\")\n",
    "            continue\n",
    "\n",
    "        if num_nonzero_values < min_nonzero_values:\n",
    "            print(f\"⚠️ La columna '{colum}' tiene solo {num_nonzero_values} valores distintos de cero. No se aplicará imputación.\")\n",
    "            continue\n",
    "\n",
    "        # Calcular cuartiles para detectar outliers\n",
    "        Q1 = df[colum].quantile(0.25)\n",
    "        Q3 = df[colum].quantile(0.75)\n",
    "        IQR = Q3 - Q1  # Rango intercuartílico\n",
    "\n",
    "        # Calcular límites inferior y superior\n",
    "        lower_limit = Q1 - 1.5 * IQR\n",
    "        upper_limit = Q3 + 1.5 * IQR\n",
    "\n",
    "        # Aplicar imputación SOLO a valores fuera de los límites y que no sean ceros históricos\n",
    "        df[colum] = df[colum].apply(\n",
    "            lambda x: Q1 if (x < lower_limit and x != 0) else \n",
    "                      (Q3 if (x > upper_limit and x != 0) else x)\n",
    "        )\n",
    "\n",
    "    return df\n",
    "\n",
    "# Aplicar la función a los datos numéricos\n",
    "dato_new_numeric = pd.DataFrame(df_data.iloc[:, 4:])\n",
    "dato_new_numeric = clean_data_v6(dato_new_numeric)\n",
    "\n",
    "# Ver resultados estadísticos después de la limpieza\n",
    "print(dato_new_numeric.describe())\n",
    "dato_new_numeric['Periodo'] = df_data['Periodo']"
   ]
  },
  {
   "cell_type": "markdown",
   "metadata": {},
   "source": [
    "------------------------------------------------------------------------------------\n",
    "#### **3.4. Eliminación de Variables con Multicolinealidad (VIF)**\n",
    "------------------------------------------------------------------------------------"
   ]
  },
  {
   "cell_type": "code",
   "execution_count": 15,
   "metadata": {},
   "outputs": [],
   "source": [
    "df_data = dato_new_numeric\n",
    "columnas_numeric = df_data.select_dtypes(include=['float64','int64']).columns\n",
    "#columnas_numeric = columnas_numeric.drop('Año')\n",
    "columnas_numeric = columnas_numeric.drop('Periodo')\n",
    "#columnas_numeric = columnas_numeric.drop('FECHAENSAYO')\n",
    "columnas_numeric = columnas_numeric.drop(columna_rcNdias) # 'RC 1 día'\n",
    "# columnas_numeric = columnas_numeric.drop('RC 3 días') # 'RC 28 días'\n",
    "# columnas_numeric = columnas_numeric.drop('RC 7 días') # 'RC 28 días'\n",
    "# columnas_numeric = columnas_numeric.drop('RC 28 días') # 'RC 28 días'"
   ]
  },
  {
   "cell_type": "code",
   "execution_count": 16,
   "metadata": {},
   "outputs": [
    {
     "name": "stdout",
     "output_type": "stream",
     "text": [
      "Variables eliminadas en el proceso:\n",
      "['H2O Pasta', 'SiO2', 'Álcalis Equivalentes', 'H2O mortero', 'CaO', 'Puzolana', 'Consistencia Normal', 'Caliza', 'Fraguado inicial', 'K2O', 'Pérdida por ignición']\n",
      "\n",
      "VIF Final después de la eliminación:\n",
      "                  Variable       VIF\n",
      "15                     C3S  3.695016\n",
      "11           Retenido M450  3.528676\n",
      "6           Fraguado final  3.183921\n",
      "13   Superficie específica  3.047646\n",
      "0                    CaCO3  2.937700\n",
      "10           Retenido M325  2.867504\n",
      "14                    Yeso  2.410683\n",
      "3   Expansión en autoclave  2.207705\n",
      "4                    Fe2O3  2.203688\n",
      "8                     Na2O  2.033584\n",
      "9             Polvo Filtro  2.033396\n",
      "7                      MgO  1.845677\n",
      "12                     SO3  1.269737\n",
      "2                       Cl  1.224732\n",
      "1                Cal Libre  1.124623\n",
      "5                  Fluidez  1.098962\n"
     ]
    }
   ],
   "source": [
    "#====================================================================================================================\n",
    "# METODO DE VIF\n",
    "#====================================================================================================================\n",
    "\n",
    "import pandas as pd\n",
    "import numpy as np\n",
    "from statsmodels.stats.outliers_influence import variance_inflation_factor\n",
    "\n",
    "def compute_vif(df):\n",
    "    \"\"\"\n",
    "    Calcula el VIF para un DataFrame numérico y devuelve un DataFrame ordenado por VIF descendente.\n",
    "    \"\"\"\n",
    "    df = df.copy()  # Evita modificaciones sobre la referencia original\n",
    "    \n",
    "    # Filtrar solo columnas numéricas\n",
    "    df = df.select_dtypes(include=[np.number])\n",
    "    \n",
    "    # Eliminar columnas constantes (varianza 0)\n",
    "    df = df.loc[:, df.var() > 0]\n",
    "\n",
    "    # Reemplazar valores NaN e Inf antes del cálculo del VIF\n",
    "    df.replace([np.inf, -np.inf], np.nan, inplace=True)\n",
    "    df.fillna(df.mean(), inplace=True)\n",
    "\n",
    "    # Agregar intercepto para el cálculo del VIF\n",
    "    df[\"intercept\"] = 1\n",
    "\n",
    "    vif_data = pd.DataFrame()\n",
    "    vif_data[\"Variable\"] = df.columns\n",
    "    vif_data[\"VIF\"] = [\n",
    "        variance_inflation_factor(df.values, i) if df.iloc[:, i].var() > 0 else np.nan\n",
    "        for i in range(df.shape[1])\n",
    "    ]\n",
    "\n",
    "    # Eliminar la columna intercept\n",
    "    vif_data = vif_data[vif_data[\"Variable\"] != \"intercept\"]\n",
    "\n",
    "    return vif_data.sort_values(\"VIF\", ascending=False)\n",
    "\n",
    "#====================================================================================================================\n",
    "# EJECUCIÓN DEL MÉTODO VIF\n",
    "#====================================================================================================================\n",
    "\n",
    "# Cargar los datos correctamente\n",
    "df = df_data[columnas_numeric].copy()\n",
    "\n",
    "# Lista para almacenar variables eliminadas\n",
    "variables_eliminadas = []\n",
    "\n",
    "# Calcular el VIF inicial\n",
    "vif_df = compute_vif(df)\n",
    "\n",
    "# Verificar si hay valores antes de iterar\n",
    "if not vif_df.empty:\n",
    "    vif_max = vif_df[\"VIF\"].max()  # Obtener el VIF más alto\n",
    "else:\n",
    "    vif_max = 0\n",
    "\n",
    "# Iterativamente eliminar variables con VIF >= 5\n",
    "while vif_max >= 5 and not vif_df.empty:\n",
    "    # Eliminar la variable con mayor VIF\n",
    "    var_to_remove = vif_df.iloc[0, 0]\n",
    "    \n",
    "    if var_to_remove in df.columns:\n",
    "        df.drop(columns=[var_to_remove], inplace=True)\n",
    "        variables_eliminadas.append(var_to_remove)  # Registrar la variable eliminada\n",
    "\n",
    "    # Recalcular el VIF con las variables restantes\n",
    "    vif_df = compute_vif(df)\n",
    "\n",
    "    # Verificar si hay valores antes de continuar iterando\n",
    "    if not vif_df.empty:\n",
    "        vif_max = vif_df[\"VIF\"].max()  # Obtener el nuevo VIF más alto\n",
    "    else:\n",
    "        break  # Terminar si no hay más variables\n",
    "\n",
    "# Imprimir el resultado final\n",
    "print(\"Variables eliminadas en el proceso:\")\n",
    "print(variables_eliminadas)\n",
    "print(\"\\nVIF Final después de la eliminación:\")\n",
    "print(vif_df)"
   ]
  },
  {
   "cell_type": "code",
   "execution_count": 17,
   "metadata": {},
   "outputs": [
    {
     "data": {
      "text/plain": [
       "['C3S',\n",
       " 'Retenido M450',\n",
       " 'Fraguado final',\n",
       " 'Superficie específica',\n",
       " 'CaCO3',\n",
       " 'Retenido M325',\n",
       " 'Yeso',\n",
       " 'Expansión en autoclave',\n",
       " 'Fe2O3',\n",
       " 'Na2O',\n",
       " 'Polvo Filtro',\n",
       " 'MgO',\n",
       " 'SO3',\n",
       " 'Cl',\n",
       " 'Cal Libre',\n",
       " 'Fluidez',\n",
       " 'RC 1 día']"
      ]
     },
     "execution_count": 17,
     "metadata": {},
     "output_type": "execute_result"
    }
   ],
   "source": [
    "#====================================================================================================================\n",
    "# SEPARACIÓN Y LISTADO DE CAMPOS \n",
    "#====================================================================================================================\n",
    "\n",
    "variables_vif = list(vif_df['Variable'])\n",
    "variables_vif.append(columna_rcNdias) # Columna para las resistencias\n",
    "variables_vif"
   ]
  },
  {
   "cell_type": "code",
   "execution_count": 18,
   "metadata": {},
   "outputs": [
    {
     "data": {
      "text/html": [
       "<div>\n",
       "<style scoped>\n",
       "    .dataframe tbody tr th:only-of-type {\n",
       "        vertical-align: middle;\n",
       "    }\n",
       "\n",
       "    .dataframe tbody tr th {\n",
       "        vertical-align: top;\n",
       "    }\n",
       "\n",
       "    .dataframe thead th {\n",
       "        text-align: right;\n",
       "    }\n",
       "</style>\n",
       "<table border=\"1\" class=\"dataframe\">\n",
       "  <thead>\n",
       "    <tr style=\"text-align: right;\">\n",
       "      <th></th>\n",
       "      <th>C3S</th>\n",
       "      <th>Retenido M450</th>\n",
       "      <th>Fraguado final</th>\n",
       "      <th>Superficie específica</th>\n",
       "      <th>CaCO3</th>\n",
       "      <th>Retenido M325</th>\n",
       "      <th>Yeso</th>\n",
       "      <th>Expansión en autoclave</th>\n",
       "      <th>Fe2O3</th>\n",
       "      <th>Na2O</th>\n",
       "      <th>Polvo Filtro</th>\n",
       "      <th>MgO</th>\n",
       "      <th>SO3</th>\n",
       "      <th>Cl</th>\n",
       "      <th>Cal Libre</th>\n",
       "      <th>Fluidez</th>\n",
       "      <th>RC 1 día</th>\n",
       "    </tr>\n",
       "  </thead>\n",
       "  <tbody>\n",
       "    <tr>\n",
       "      <th>0</th>\n",
       "      <td>27.40</td>\n",
       "      <td>7.6</td>\n",
       "      <td>290.0</td>\n",
       "      <td>6100.0</td>\n",
       "      <td>16.11</td>\n",
       "      <td>1.6</td>\n",
       "      <td>4.75</td>\n",
       "      <td>0.05</td>\n",
       "      <td>2.55</td>\n",
       "      <td>0.29</td>\n",
       "      <td>0.0</td>\n",
       "      <td>2.1</td>\n",
       "      <td>2.47</td>\n",
       "      <td>0.027</td>\n",
       "      <td>0.9</td>\n",
       "      <td>106.0</td>\n",
       "      <td>1300.0</td>\n",
       "    </tr>\n",
       "    <tr>\n",
       "      <th>1</th>\n",
       "      <td>31.76</td>\n",
       "      <td>10.8</td>\n",
       "      <td>275.0</td>\n",
       "      <td>6080.0</td>\n",
       "      <td>15.44</td>\n",
       "      <td>3.2</td>\n",
       "      <td>4.91</td>\n",
       "      <td>0.05</td>\n",
       "      <td>2.57</td>\n",
       "      <td>0.30</td>\n",
       "      <td>0.0</td>\n",
       "      <td>2.1</td>\n",
       "      <td>2.33</td>\n",
       "      <td>0.025</td>\n",
       "      <td>0.8</td>\n",
       "      <td>106.0</td>\n",
       "      <td>1450.0</td>\n",
       "    </tr>\n",
       "    <tr>\n",
       "      <th>2</th>\n",
       "      <td>31.01</td>\n",
       "      <td>8.8</td>\n",
       "      <td>265.0</td>\n",
       "      <td>5890.0</td>\n",
       "      <td>15.91</td>\n",
       "      <td>2.0</td>\n",
       "      <td>4.56</td>\n",
       "      <td>0.06</td>\n",
       "      <td>2.48</td>\n",
       "      <td>0.30</td>\n",
       "      <td>0.0</td>\n",
       "      <td>2.1</td>\n",
       "      <td>2.34</td>\n",
       "      <td>0.025</td>\n",
       "      <td>0.8</td>\n",
       "      <td>107.0</td>\n",
       "      <td>1470.0</td>\n",
       "    </tr>\n",
       "  </tbody>\n",
       "</table>\n",
       "</div>"
      ],
      "text/plain": [
       "     C3S  Retenido M450  Fraguado final  Superficie específica  CaCO3  \\\n",
       "0  27.40            7.6           290.0                 6100.0  16.11   \n",
       "1  31.76           10.8           275.0                 6080.0  15.44   \n",
       "2  31.01            8.8           265.0                 5890.0  15.91   \n",
       "\n",
       "   Retenido M325  Yeso  Expansión en autoclave  Fe2O3  Na2O  Polvo Filtro  \\\n",
       "0            1.6  4.75                    0.05   2.55  0.29           0.0   \n",
       "1            3.2  4.91                    0.05   2.57  0.30           0.0   \n",
       "2            2.0  4.56                    0.06   2.48  0.30           0.0   \n",
       "\n",
       "   MgO   SO3     Cl  Cal Libre  Fluidez  RC 1 día  \n",
       "0  2.1  2.47  0.027        0.9    106.0    1300.0  \n",
       "1  2.1  2.33  0.025        0.8    106.0    1450.0  \n",
       "2  2.1  2.34  0.025        0.8    107.0    1470.0  "
      ]
     },
     "execution_count": 18,
     "metadata": {},
     "output_type": "execute_result"
    }
   ],
   "source": [
    "#====================================================================================================================\n",
    "# DELIMITACION DE LOS CAMPOS Y REGISTROS QUE SE QUEDAN EN EL PROCEOSO\n",
    "#====================================================================================================================\n",
    "data_pre_mod = pd.DataFrame(dato_new_numeric[variables_vif]) #    [list(vif_a2['Variable'])])\n",
    "data_pre_mod[columna_rcNdias] = dato_new_numeric[columna_rcNdias] # 'RC 28 días' #'RC 28 días'\n",
    "data_pre_mod.head(3)"
   ]
  },
  {
   "cell_type": "code",
   "execution_count": 19,
   "metadata": {},
   "outputs": [
    {
     "name": "stdout",
     "output_type": "stream",
     "text": [
      "C3S                          13.49\n",
      "Retenido M450                 1.68\n",
      "Fraguado final              212.77\n",
      "Superficie específica     69998.66\n",
      "CaCO3                         1.25\n",
      "Retenido M325                 0.28\n",
      "Yeso                          0.05\n",
      "Expansión en autoclave        0.00\n",
      "Fe2O3                         0.01\n",
      "Na2O                          0.00\n",
      "Polvo Filtro                  0.12\n",
      "MgO                           0.01\n",
      "SO3                           0.01\n",
      "Cl                            0.00\n",
      "Cal Libre                     0.01\n",
      "Fluidez                       2.69\n",
      "RC 1 día                  48193.24\n",
      "dtype: float64\n"
     ]
    }
   ],
   "source": [
    "variances = round(data_pre_mod.var(),2)\n",
    "print(variances)"
   ]
  },
  {
   "cell_type": "code",
   "execution_count": 20,
   "metadata": {},
   "outputs": [
    {
     "name": "stdout",
     "output_type": "stream",
     "text": [
      "Columnas Eliminadas: Index(['Cl'], dtype='object')\n",
      "Columnas Seleccionadas: Index(['C3S', 'Retenido M450', 'Fraguado final', 'Superficie específica',\n",
      "       'CaCO3', 'Retenido M325', 'Yeso', 'Expansión en autoclave', 'Fe2O3',\n",
      "       'Na2O', 'Polvo Filtro', 'MgO', 'SO3', 'Cal Libre', 'Fluidez',\n",
      "       'RC 1 día'],\n",
      "      dtype='object')\n"
     ]
    }
   ],
   "source": [
    "from sklearn.feature_selection import VarianceThreshold\n",
    "\n",
    "# Eliminar variables con baja varianza\n",
    "threshold = 0.0001  # Umbral de varianza mínima\n",
    "selector = VarianceThreshold(threshold=threshold)\n",
    "\n",
    "# # Aplicar la selección de características\n",
    "X_selected_var = selector.fit_transform(data_pre_mod)\n",
    "\n",
    "# Obtener los nombres de las variables seleccionadas\n",
    "selected_columns = data_pre_mod.columns[selector.get_support()]\n",
    "#print(f\"Variables seleccionadas después de la eliminación por baja varianza: {selected_columns}\")\n",
    "eliminated_columns = data_pre_mod.columns[~selector.get_support()]\n",
    "print(\"Columnas Eliminadas:\", eliminated_columns)\n",
    "print(\"Columnas Seleccionadas:\", selected_columns)"
   ]
  },
  {
   "cell_type": "code",
   "execution_count": 21,
   "metadata": {},
   "outputs": [
    {
     "data": {
      "text/html": [
       "<div>\n",
       "<style scoped>\n",
       "    .dataframe tbody tr th:only-of-type {\n",
       "        vertical-align: middle;\n",
       "    }\n",
       "\n",
       "    .dataframe tbody tr th {\n",
       "        vertical-align: top;\n",
       "    }\n",
       "\n",
       "    .dataframe thead th {\n",
       "        text-align: right;\n",
       "    }\n",
       "</style>\n",
       "<table border=\"1\" class=\"dataframe\">\n",
       "  <thead>\n",
       "    <tr style=\"text-align: right;\">\n",
       "      <th></th>\n",
       "      <th>C3S</th>\n",
       "      <th>Retenido M450</th>\n",
       "      <th>Fraguado final</th>\n",
       "      <th>Superficie específica</th>\n",
       "      <th>CaCO3</th>\n",
       "      <th>Retenido M325</th>\n",
       "      <th>Yeso</th>\n",
       "      <th>Expansión en autoclave</th>\n",
       "      <th>Fe2O3</th>\n",
       "      <th>Na2O</th>\n",
       "      <th>Polvo Filtro</th>\n",
       "      <th>MgO</th>\n",
       "      <th>SO3</th>\n",
       "      <th>Cal Libre</th>\n",
       "      <th>Fluidez</th>\n",
       "      <th>RC 1 día</th>\n",
       "    </tr>\n",
       "  </thead>\n",
       "  <tbody>\n",
       "    <tr>\n",
       "      <th>0</th>\n",
       "      <td>27.40</td>\n",
       "      <td>7.6</td>\n",
       "      <td>290.0</td>\n",
       "      <td>6100.0</td>\n",
       "      <td>16.11</td>\n",
       "      <td>1.6</td>\n",
       "      <td>4.75</td>\n",
       "      <td>0.05</td>\n",
       "      <td>2.55</td>\n",
       "      <td>0.29</td>\n",
       "      <td>0.0</td>\n",
       "      <td>2.1</td>\n",
       "      <td>2.47</td>\n",
       "      <td>0.9</td>\n",
       "      <td>106.0</td>\n",
       "      <td>1300.0</td>\n",
       "    </tr>\n",
       "    <tr>\n",
       "      <th>1</th>\n",
       "      <td>31.76</td>\n",
       "      <td>10.8</td>\n",
       "      <td>275.0</td>\n",
       "      <td>6080.0</td>\n",
       "      <td>15.44</td>\n",
       "      <td>3.2</td>\n",
       "      <td>4.91</td>\n",
       "      <td>0.05</td>\n",
       "      <td>2.57</td>\n",
       "      <td>0.30</td>\n",
       "      <td>0.0</td>\n",
       "      <td>2.1</td>\n",
       "      <td>2.33</td>\n",
       "      <td>0.8</td>\n",
       "      <td>106.0</td>\n",
       "      <td>1450.0</td>\n",
       "    </tr>\n",
       "  </tbody>\n",
       "</table>\n",
       "</div>"
      ],
      "text/plain": [
       "     C3S  Retenido M450  Fraguado final  Superficie específica  CaCO3  \\\n",
       "0  27.40            7.6           290.0                 6100.0  16.11   \n",
       "1  31.76           10.8           275.0                 6080.0  15.44   \n",
       "\n",
       "   Retenido M325  Yeso  Expansión en autoclave  Fe2O3  Na2O  Polvo Filtro  \\\n",
       "0            1.6  4.75                    0.05   2.55  0.29           0.0   \n",
       "1            3.2  4.91                    0.05   2.57  0.30           0.0   \n",
       "\n",
       "   MgO   SO3  Cal Libre  Fluidez  RC 1 día  \n",
       "0  2.1  2.47        0.9    106.0    1300.0  \n",
       "1  2.1  2.33        0.8    106.0    1450.0  "
      ]
     },
     "execution_count": 21,
     "metadata": {},
     "output_type": "execute_result"
    }
   ],
   "source": [
    "var_data_pre_mod = list(selected_columns)\n",
    "data_pre_mod_vth = data_pre_mod[var_data_pre_mod]\n",
    "data_pre_mod_vth.head(2)"
   ]
  },
  {
   "cell_type": "markdown",
   "metadata": {},
   "source": [
    "------------------------------------------------------------------------------------\n",
    "#### **3.5. Separación de data de Train y Test**\n",
    "------------------------------------------------------------------------------------"
   ]
  },
  {
   "cell_type": "code",
   "execution_count": 22,
   "metadata": {},
   "outputs": [],
   "source": [
    "numeric_cols = data_pre_mod_vth.select_dtypes(include=['float64','int']).columns\n",
    "numeric_cols = numeric_cols.drop(columna_rcNdias) #'RC 1 día'\n",
    "\n",
    "# variables ya resumidas con las finales de VIF\n",
    "X = data_pre_mod_vth[numeric_cols]\n",
    "y = data_pre_mod_vth[columna_rcNdias]\n",
    "\n",
    "# splitting X and y into training and testing sets\n",
    "X_train, X_test, y_train, y_test = train_test_split(X, y, test_size = 0.2 , random_state= 1 ) #stratify=y,"
   ]
  },
  {
   "cell_type": "code",
   "execution_count": 61,
   "metadata": {
    "colab": {
     "base_uri": "https://localhost:8080/"
    },
    "executionInfo": {
     "elapsed": 289,
     "status": "ok",
     "timestamp": 1713458463109,
     "user": {
      "displayName": "Luis Fernando Solis Navarro",
      "userId": "12047414360120813726"
     },
     "user_tz": 180
    },
    "id": "ubc9Tux97s-q",
    "outputId": "b6987719-ea97-4d55-dd9e-c006e0e682d8"
   },
   "outputs": [],
   "source": [
    "# # Let's separate into train and test set\n",
    "# # Remember to set the seed (random_state for this sklearn function)\n",
    "\n",
    "# X_train, X_test, y_train, y_test = train_test_split(\n",
    "#     data.drop(['Id', 'SalePrice'], axis=1), # predictive variables\n",
    "#     data['SalePrice'], # target\n",
    "#     test_size=0.1, # portion of dataset to allocate to test set\n",
    "#     random_state=0, # we are setting the seed here\n",
    "# )\n",
    "\n",
    "# X_train.shape, X_test.shape"
   ]
  },
  {
   "cell_type": "markdown",
   "metadata": {
    "id": "mNKiVTCz7s-q"
   },
   "source": [
    "------------------------------------------------------------------------------------\n",
    "#### **3.5. Paso 3: Feature Engineering (Ingeniería de Características)**\n",
    "------------------------------------------------------------------------------------\n",
    "\n",
    "        En las siguientes celdas, procesaremos las variables del dataset de Precios de Casas para abordar:\n",
    "\n",
    "        1. Missing values (NaN - Valores Faltantes)\n",
    "        2. Temporal variables (Variables Temporales)\n",
    "        3. Non-Gaussian distributed variables (Variables con distribución no gaussiana)\n",
    "        4. Categorical variables: remove rare labels (Variables categóricas: eliminar etiquetas raras)\n",
    "        5. Categorical variables: convert strings to numbers (Variables categóricas: convertir cadenas a números)\n",
    "        5. Put the variables in a similar scale (Poner las variables en una escala similar)"
   ]
  },
  {
   "cell_type": "markdown",
   "metadata": {
    "id": "OrE_VYkW7s-q"
   },
   "source": [
    "##### Target\n",
    "\n",
    "Aplicamos el logaritmo"
   ]
  },
  {
   "cell_type": "code",
   "execution_count": 23,
   "metadata": {
    "executionInfo": {
     "elapsed": 236,
     "status": "ok",
     "timestamp": 1713458488913,
     "user": {
      "displayName": "Luis Fernando Solis Navarro",
      "userId": "12047414360120813726"
     },
     "user_tz": 180
    },
    "id": "UG6kBxCm7s-q"
   },
   "outputs": [],
   "source": [
    "y_train = np.log(y_train)\n",
    "y_test = np.log(y_test)"
   ]
  },
  {
   "cell_type": "markdown",
   "metadata": {
    "id": "CBZsPlRH7s-s"
   },
   "source": [
    "#### **Numerical variable transformation**\n",
    "\n",
    "##### **Logarithmic transformation**\n",
    "\n",
    "In the previous notebook, we observed that the numerical variables are not normally distributed.\n",
    "\n",
    "We will transform with the logarightm the positive numerical variables in order to get a more Gaussian-like distribution."
   ]
  },
  {
   "cell_type": "code",
   "execution_count": null,
   "metadata": {
    "executionInfo": {
     "elapsed": 252,
     "status": "ok",
     "timestamp": 1713458630970,
     "user": {
      "displayName": "Luis Fernando Solis Navarro",
      "userId": "12047414360120813726"
     },
     "user_tz": 180
    },
    "id": "DgVHXF8i7s-s"
   },
   "outputs": [
    {
     "name": "stderr",
     "output_type": "stream",
     "text": [
      "c:\\Users\\enriq\\anaconda3\\envs\\DataPat-MLOps-11\\lib\\site-packages\\pandas\\core\\internals\\blocks.py:366: RuntimeWarning: divide by zero encountered in log\n",
      "  result = func(self.values, **kwargs)\n"
     ]
    }
   ],
   "source": [
    "# for var in [numeric_cols]:\n",
    "#     X_train[var] = np.log(X_train[var])\n",
    "#     X_test[var] = np.log(X_test[var])"
   ]
  },
  {
   "cell_type": "markdown",
   "metadata": {
    "id": "RP8nfj1k7s-s"
   },
   "source": [
    "#### **Yeo-Johnson transformation**\n",
    "\n",
    "We will apply the Yeo-Johnson transformation to LotArea."
   ]
  },
  {
   "cell_type": "code",
   "execution_count": 105,
   "metadata": {
    "colab": {
     "base_uri": "https://localhost:8080/"
    },
    "executionInfo": {
     "elapsed": 214,
     "status": "ok",
     "timestamp": 1713458649915,
     "user": {
      "displayName": "Luis Fernando Solis Navarro",
      "userId": "12047414360120813726"
     },
     "user_tz": 180
    },
    "id": "VJSAJPIx7s-s",
    "outputId": "e73bdb00-25ce-44ac-caac-f70774543d32"
   },
   "outputs": [],
   "source": [
    "# # the yeo-johnson transformation learns the best exponent to transform the variable\n",
    "# # it needs to learn it from the train set:\n",
    "# X_train['LotArea'], param = stats.yeojohnson(X_train['LotArea'])\n",
    "\n",
    "# # and then apply the transformation to the test set with the same\n",
    "# # parameter: see who this time we pass param as argument to the\n",
    "# # yeo-johnson\n",
    "# X_test['LotArea'] = stats.yeojohnson(X_test['LotArea'], lmbda=param)\n",
    "\n",
    "# print(param)"
   ]
  },
  {
   "cell_type": "code",
   "execution_count": null,
   "metadata": {
    "colab": {
     "base_uri": "https://localhost:8080/"
    },
    "executionInfo": {
     "elapsed": 232,
     "status": "ok",
     "timestamp": 1713458658739,
     "user": {
      "displayName": "Luis Fernando Solis Navarro",
      "userId": "12047414360120813726"
     },
     "user_tz": 180
    },
    "id": "SJXqorLL7s-s",
    "outputId": "cfad681a-4165-4880-db44-79b0a33567e0"
   },
   "outputs": [
    {
     "data": {
      "text/plain": [
       "[]"
      ]
     },
     "execution_count": 26,
     "metadata": {},
     "output_type": "execute_result"
    }
   ],
   "source": [
    "# # check absence of na in the train set\n",
    "# [var for var in X_train.columns if X_train[var].isnull().sum() > 0]"
   ]
  },
  {
   "cell_type": "code",
   "execution_count": null,
   "metadata": {
    "colab": {
     "base_uri": "https://localhost:8080/"
    },
    "executionInfo": {
     "elapsed": 493,
     "status": "ok",
     "timestamp": 1713458660518,
     "user": {
      "displayName": "Luis Fernando Solis Navarro",
      "userId": "12047414360120813726"
     },
     "user_tz": 180
    },
    "id": "lt_JqtLb7s-t",
    "outputId": "d448f8f7-2b70-482a-b693-3d5883cb4a14"
   },
   "outputs": [
    {
     "data": {
      "text/plain": [
       "[]"
      ]
     },
     "execution_count": 27,
     "metadata": {},
     "output_type": "execute_result"
    }
   ],
   "source": [
    "# # check absence of na in the test set\n",
    "# [var for var in X_train.columns if X_test[var].isnull().sum() > 0]"
   ]
  },
  {
   "cell_type": "markdown",
   "metadata": {
    "id": "t9YeWdJK7s-t"
   },
   "source": [
    "#### **Binarize skewed variables (Binarizar variables sesgadas)**\n",
    "\n",
    "Había algunas variables muy sesgadas, las transformaremos en variables binarias."
   ]
  },
  {
   "cell_type": "code",
   "execution_count": null,
   "metadata": {
    "executionInfo": {
     "elapsed": 216,
     "status": "ok",
     "timestamp": 1713458664450,
     "user": {
      "displayName": "Luis Fernando Solis Navarro",
      "userId": "12047414360120813726"
     },
     "user_tz": 180
    },
    "id": "gBjoL0Iz7s-t"
   },
   "outputs": [],
   "source": [
    "# skewed = [\n",
    "#     'BsmtFinSF2', 'LowQualFinSF', 'EnclosedPorch',\n",
    "#     '3SsnPorch', 'ScreenPorch', 'MiscVal'\n",
    "# ]\n",
    "\n",
    "# for var in skewed:\n",
    "\n",
    "#     # map the variable values into 0 and 1\n",
    "#     X_train[var] = np.where(X_train[var]==0, 0, 1)\n",
    "#     X_test[var] = np.where(X_test[var]==0, 0, 1)"
   ]
  },
  {
   "cell_type": "markdown",
   "metadata": {},
   "source": [
    "------------------------------------------------------------------------------------\n",
    "#### **3.x. Variables Categoricas (NO Utilizadas)**\n",
    "------------------------------------------------------------------------------------"
   ]
  },
  {
   "cell_type": "markdown",
   "metadata": {
    "id": "aL4n08fq7s-t"
   },
   "source": [
    "###### Variables categóricas\n",
    "\n",
    "###### Aplicamos mapeos\n",
    "\n",
    "Estas son variables cuyos valores tienen un orden asignado, relacionado con la calidad. Para más información, consulta el sitio web de Kaggle."
   ]
  },
  {
   "cell_type": "markdown",
   "metadata": {
    "id": "ObxsanmL7s-u"
   },
   "source": [
    "##### Encoding of categorical variables\n",
    "\n",
    "A continuación, necesitamos transformar las cadenas de las variables categóricas en números.\n",
    "\n",
    "Lo haremos para capturar la relación monótona entre la etiqueta y el objetivo."
   ]
  },
  {
   "cell_type": "code",
   "execution_count": 37,
   "metadata": {
    "executionInfo": {
     "elapsed": 2,
     "status": "ok",
     "timestamp": 1713458703020,
     "user": {
      "displayName": "Luis Fernando Solis Navarro",
      "userId": "12047414360120813726"
     },
     "user_tz": 180
    },
    "id": "dVCWgeqT7s-u"
   },
   "outputs": [],
   "source": [
    "# esta función asignará valores discretos a las cadenas de las variables,\n",
    "# de modo que el valor más pequeño corresponda a la categoría que muestra el menor\n",
    "# precio medio de venta de casas\n",
    "\n",
    "def replace_categories(train, test, y_train, var, target):\n",
    "\n",
    "    tmp = pd.concat([X_train, y_train], axis=1)\n",
    "\n",
    "    # order the categories in a variable from that with the lowest\n",
    "    # house sale price, to that with the highest\n",
    "    ordered_labels = tmp.groupby([var])[target].mean().sort_values().index\n",
    "\n",
    "    # create a dictionary of ordered categories to integer values\n",
    "    ordinal_label = {k: i for i, k in enumerate(ordered_labels, 0)}\n",
    "\n",
    "    print(var, ordinal_label)\n",
    "    print()\n",
    "\n",
    "    # use the dictionary to replace the categorical strings by integers\n",
    "    train[var] = train[var].map(ordinal_label)\n",
    "    test[var] = test[var].map(ordinal_label)"
   ]
  },
  {
   "cell_type": "markdown",
   "metadata": {},
   "source": [
    "###### Verificamos ¿Hay valores nulos (na) en el conjunto de Entrenamiento? - NO"
   ]
  },
  {
   "cell_type": "markdown",
   "metadata": {},
   "source": [
    "###### Verificamos ¿Hay valores nulos (na) en el conjunto de Prueba? - NO"
   ]
  },
  {
   "cell_type": "markdown",
   "metadata": {
    "id": "VqwwBmv97s-u"
   },
   "source": [
    "La relación monótona es particularmente clara para las variables MSZoning y Neighborhood. Observa cómo, cuanto mayor es el número entero que ahora representa la categoría, mayor es el precio medio de venta de casas.\n",
    "\n",
    "(recuerda que el objetivo está transformado logarítmicamente, por eso las diferencias parecen tan pequeñas)."
   ]
  },
  {
   "cell_type": "markdown",
   "metadata": {
    "id": "PXEBF46_7s-u"
   },
   "source": [
    "------------------------------------------------------------------------------------\n",
    "#### **3.6. Feature Scaling**\n",
    "------------------------------------------------------------------------------------\n",
    "\n",
    "Para su uso en modelos lineales, las características deben ser escaladas. Escalaremos las características a los valores mínimos y máximos:"
   ]
  },
  {
   "cell_type": "code",
   "execution_count": 31,
   "metadata": {},
   "outputs": [
    {
     "name": "stdout",
     "output_type": "stream",
     "text": [
      "X_train es un DataFrame de pandas\n"
     ]
    }
   ],
   "source": [
    "if isinstance(X_train, pd.DataFrame):\n",
    "    print(\"X_train es un DataFrame de pandas\")\n",
    "else:\n",
    "    print(\"X_train no es un DataFrame de pandas\")"
   ]
  },
  {
   "cell_type": "code",
   "execution_count": 32,
   "metadata": {},
   "outputs": [
    {
     "name": "stdout",
     "output_type": "stream",
     "text": [
      "372\n",
      "(372, 15)\n"
     ]
    }
   ],
   "source": [
    "print(len(X_train))\n",
    "print(X_train.shape)"
   ]
  },
  {
   "cell_type": "code",
   "execution_count": 33,
   "metadata": {},
   "outputs": [],
   "source": [
    "#DESCARGAR PICKLE\n",
    "from sklearn.preprocessing import MinMaxScaler\n",
    "import pickle\n",
    "\n",
    "# Estandarizar los valores\n",
    "scaler_x = MinMaxScaler().fit(X_train.select_dtypes(include=['float64','int']))\n",
    "# Guardar el modelo y el escalador en un archivo .pkl\n",
    "with open('MinMaxScale_1d_Ico.pkl', 'wb') as file:\n",
    "    pickle.dump((scaler_x), file)    \n",
    "    \n",
    "# Cargar el archivo Pickle\n",
    "with open('MinMaxScale_1d_Ico.pkl', 'rb') as file:\n",
    "    MinMaxScale_1d_Ico = pickle.load(file)"
   ]
  },
  {
   "cell_type": "code",
   "execution_count": null,
   "metadata": {},
   "outputs": [
    {
     "data": {
      "text/html": [
       "<div>\n",
       "<style scoped>\n",
       "    .dataframe tbody tr th:only-of-type {\n",
       "        vertical-align: middle;\n",
       "    }\n",
       "\n",
       "    .dataframe tbody tr th {\n",
       "        vertical-align: top;\n",
       "    }\n",
       "\n",
       "    .dataframe thead th {\n",
       "        text-align: right;\n",
       "    }\n",
       "</style>\n",
       "<table border=\"1\" class=\"dataframe\">\n",
       "  <thead>\n",
       "    <tr style=\"text-align: right;\">\n",
       "      <th></th>\n",
       "      <th>C3S</th>\n",
       "      <th>Retenido M450</th>\n",
       "      <th>Fraguado final</th>\n",
       "      <th>Superficie específica</th>\n",
       "      <th>CaCO3</th>\n",
       "      <th>Retenido M325</th>\n",
       "      <th>Yeso</th>\n",
       "      <th>Expansión en autoclave</th>\n",
       "      <th>Fe2O3</th>\n",
       "      <th>Na2O</th>\n",
       "      <th>Polvo Filtro</th>\n",
       "      <th>MgO</th>\n",
       "      <th>SO3</th>\n",
       "      <th>Cal Libre</th>\n",
       "      <th>Fluidez</th>\n",
       "    </tr>\n",
       "  </thead>\n",
       "  <tbody>\n",
       "    <tr>\n",
       "      <th>0</th>\n",
       "      <td>0.475299</td>\n",
       "      <td>0.722222</td>\n",
       "      <td>0.500000</td>\n",
       "      <td>0.465517</td>\n",
       "      <td>0.236599</td>\n",
       "      <td>0.5</td>\n",
       "      <td>0.538462</td>\n",
       "      <td>0.0</td>\n",
       "      <td>0.480769</td>\n",
       "      <td>0.727273</td>\n",
       "      <td>0.0</td>\n",
       "      <td>0.666667</td>\n",
       "      <td>0.500000</td>\n",
       "      <td>0.666667</td>\n",
       "      <td>0.000000</td>\n",
       "    </tr>\n",
       "    <tr>\n",
       "      <th>1</th>\n",
       "      <td>0.155486</td>\n",
       "      <td>0.666667</td>\n",
       "      <td>0.357143</td>\n",
       "      <td>0.793103</td>\n",
       "      <td>0.683919</td>\n",
       "      <td>1.0</td>\n",
       "      <td>0.250000</td>\n",
       "      <td>0.0</td>\n",
       "      <td>0.173077</td>\n",
       "      <td>0.454545</td>\n",
       "      <td>0.0</td>\n",
       "      <td>0.333333</td>\n",
       "      <td>0.452381</td>\n",
       "      <td>0.000000</td>\n",
       "      <td>0.285714</td>\n",
       "    </tr>\n",
       "    <tr>\n",
       "      <th>2</th>\n",
       "      <td>0.165367</td>\n",
       "      <td>0.611111</td>\n",
       "      <td>0.785714</td>\n",
       "      <td>0.655172</td>\n",
       "      <td>0.451017</td>\n",
       "      <td>0.5</td>\n",
       "      <td>0.826923</td>\n",
       "      <td>0.0</td>\n",
       "      <td>0.519231</td>\n",
       "      <td>0.636364</td>\n",
       "      <td>0.0</td>\n",
       "      <td>0.333333</td>\n",
       "      <td>0.571429</td>\n",
       "      <td>0.666667</td>\n",
       "      <td>0.714286</td>\n",
       "    </tr>\n",
       "  </tbody>\n",
       "</table>\n",
       "</div>"
      ],
      "text/plain": [
       "        C3S  Retenido M450  Fraguado final  Superficie específica     CaCO3  \\\n",
       "0  0.475299       0.722222        0.500000               0.465517  0.236599   \n",
       "1  0.155486       0.666667        0.357143               0.793103  0.683919   \n",
       "2  0.165367       0.611111        0.785714               0.655172  0.451017   \n",
       "\n",
       "   Retenido M325      Yeso  Expansión en autoclave     Fe2O3      Na2O  \\\n",
       "0            0.5  0.538462                     0.0  0.480769  0.727273   \n",
       "1            1.0  0.250000                     0.0  0.173077  0.454545   \n",
       "2            0.5  0.826923                     0.0  0.519231  0.636364   \n",
       "\n",
       "   Polvo Filtro       MgO       SO3  Cal Libre   Fluidez  \n",
       "0           0.0  0.666667  0.500000   0.666667  0.000000  \n",
       "1           0.0  0.333333  0.452381   0.000000  0.285714  \n",
       "2           0.0  0.333333  0.571429   0.666667  0.714286  "
      ]
     },
     "execution_count": 37,
     "metadata": {},
     "output_type": "execute_result"
    }
   ],
   "source": [
    "# REVISAR EL NUMERO DE VARIABLES EN NUMERIC COLS Y DATA PRE MOD\n",
    "from sklearn import preprocessing\n",
    "from sklearn.preprocessing import scale\n",
    "\n",
    "Xstandar = MinMaxScale_1d_Ico.transform(X_train.select_dtypes(include=['float64','int']))\n",
    "dato_num_s = pd.DataFrame(data=Xstandar, columns = numeric_cols)\n",
    "# dato_num_s[columna_rcNdias] = data_pre_mod_vth[columna_rcNdias]\n",
    "X_train = dato_num_s\n",
    "X_train.head(3)"
   ]
  },
  {
   "cell_type": "code",
   "execution_count": null,
   "metadata": {},
   "outputs": [
    {
     "data": {
      "text/html": [
       "<div>\n",
       "<style scoped>\n",
       "    .dataframe tbody tr th:only-of-type {\n",
       "        vertical-align: middle;\n",
       "    }\n",
       "\n",
       "    .dataframe tbody tr th {\n",
       "        vertical-align: top;\n",
       "    }\n",
       "\n",
       "    .dataframe thead th {\n",
       "        text-align: right;\n",
       "    }\n",
       "</style>\n",
       "<table border=\"1\" class=\"dataframe\">\n",
       "  <thead>\n",
       "    <tr style=\"text-align: right;\">\n",
       "      <th></th>\n",
       "      <th>C3S</th>\n",
       "      <th>Retenido M450</th>\n",
       "      <th>Fraguado final</th>\n",
       "      <th>Superficie específica</th>\n",
       "      <th>CaCO3</th>\n",
       "      <th>Retenido M325</th>\n",
       "      <th>Yeso</th>\n",
       "      <th>Expansión en autoclave</th>\n",
       "      <th>Fe2O3</th>\n",
       "      <th>Na2O</th>\n",
       "      <th>Polvo Filtro</th>\n",
       "      <th>MgO</th>\n",
       "      <th>SO3</th>\n",
       "      <th>Cal Libre</th>\n",
       "      <th>Fluidez</th>\n",
       "    </tr>\n",
       "  </thead>\n",
       "  <tbody>\n",
       "    <tr>\n",
       "      <th>0</th>\n",
       "      <td>0.491420</td>\n",
       "      <td>0.833333</td>\n",
       "      <td>0.071429</td>\n",
       "      <td>0.043103</td>\n",
       "      <td>0.683919</td>\n",
       "      <td>0.666667</td>\n",
       "      <td>0.711538</td>\n",
       "      <td>0.0</td>\n",
       "      <td>0.076923</td>\n",
       "      <td>0.272727</td>\n",
       "      <td>0.0</td>\n",
       "      <td>0.666667</td>\n",
       "      <td>0.619048</td>\n",
       "      <td>0.333333</td>\n",
       "      <td>0.571429</td>\n",
       "    </tr>\n",
       "    <tr>\n",
       "      <th>1</th>\n",
       "      <td>0.682267</td>\n",
       "      <td>0.388889</td>\n",
       "      <td>0.285714</td>\n",
       "      <td>0.413793</td>\n",
       "      <td>0.691312</td>\n",
       "      <td>0.333333</td>\n",
       "      <td>0.211538</td>\n",
       "      <td>0.0</td>\n",
       "      <td>0.134615</td>\n",
       "      <td>0.272727</td>\n",
       "      <td>1.0</td>\n",
       "      <td>0.666667</td>\n",
       "      <td>0.452381</td>\n",
       "      <td>0.000000</td>\n",
       "      <td>0.285714</td>\n",
       "    </tr>\n",
       "    <tr>\n",
       "      <th>2</th>\n",
       "      <td>0.312533</td>\n",
       "      <td>0.500000</td>\n",
       "      <td>0.285714</td>\n",
       "      <td>0.681034</td>\n",
       "      <td>0.545287</td>\n",
       "      <td>0.000000</td>\n",
       "      <td>0.548077</td>\n",
       "      <td>0.0</td>\n",
       "      <td>0.269231</td>\n",
       "      <td>0.818182</td>\n",
       "      <td>0.0</td>\n",
       "      <td>0.333333</td>\n",
       "      <td>0.309524</td>\n",
       "      <td>0.333333</td>\n",
       "      <td>0.000000</td>\n",
       "    </tr>\n",
       "  </tbody>\n",
       "</table>\n",
       "</div>"
      ],
      "text/plain": [
       "        C3S  Retenido M450  Fraguado final  Superficie específica     CaCO3  \\\n",
       "0  0.491420       0.833333        0.071429               0.043103  0.683919   \n",
       "1  0.682267       0.388889        0.285714               0.413793  0.691312   \n",
       "2  0.312533       0.500000        0.285714               0.681034  0.545287   \n",
       "\n",
       "   Retenido M325      Yeso  Expansión en autoclave     Fe2O3      Na2O  \\\n",
       "0       0.666667  0.711538                     0.0  0.076923  0.272727   \n",
       "1       0.333333  0.211538                     0.0  0.134615  0.272727   \n",
       "2       0.000000  0.548077                     0.0  0.269231  0.818182   \n",
       "\n",
       "   Polvo Filtro       MgO       SO3  Cal Libre   Fluidez  \n",
       "0           0.0  0.666667  0.619048   0.333333  0.571429  \n",
       "1           1.0  0.666667  0.452381   0.000000  0.285714  \n",
       "2           0.0  0.333333  0.309524   0.333333  0.000000  "
      ]
     },
     "execution_count": 38,
     "metadata": {},
     "output_type": "execute_result"
    }
   ],
   "source": [
    "Xstandar_t = MinMaxScale_1d_Ico.transform(X_test.select_dtypes(include=['float64','int']))\n",
    "dato_num_t = pd.DataFrame(data=Xstandar_t, columns = numeric_cols)\n",
    "X_test = dato_num_t\n",
    "X_test.head(3)"
   ]
  },
  {
   "cell_type": "code",
   "execution_count": 111,
   "metadata": {
    "executionInfo": {
     "elapsed": 2,
     "status": "ok",
     "timestamp": 1713458731492,
     "user": {
      "displayName": "Luis Fernando Solis Navarro",
      "userId": "12047414360120813726"
     },
     "user_tz": 180
    },
    "id": "I1Z0sj917s-u"
   },
   "outputs": [],
   "source": [
    "# # Creamos el Escalador (Scaler)\n",
    "# scaler = MinMaxScaler()\n",
    "\n",
    "# # Ajustamos el Scaler para el Conjunto de Entrenamiento\n",
    "# scaler.fit(X_train)\n",
    "\n",
    "# # Transformamos el conjunto de entrenamiento y el conjunto de prueba\n",
    "\n",
    "# # sklearn devuelve arrays de numpy, así que envolvemos el\n",
    "# # array con un dataframe de pandas\n",
    "\n",
    "# X_train = pd.DataFrame(\n",
    "#     scaler.transform(X_train),\n",
    "#     columns=X_train.columns\n",
    "# )\n",
    "\n",
    "# X_test = pd.DataFrame(\n",
    "#     scaler.transform(X_test),\n",
    "#     columns=X_train.columns\n",
    "# )"
   ]
  },
  {
   "cell_type": "code",
   "execution_count": 40,
   "metadata": {
    "executionInfo": {
     "elapsed": 281,
     "status": "ok",
     "timestamp": 1713458740656,
     "user": {
      "displayName": "Luis Fernando Solis Navarro",
      "userId": "12047414360120813726"
     },
     "user_tz": 180
    },
    "id": "qjr87LV87s-u"
   },
   "outputs": [],
   "source": [
    "# Guardemos ahora los conjuntos de entrenamiento y prueba para el próximo Notebook!\n",
    "\n",
    "X_train.to_csv('./Output/xtrain.csv', index=False)\n",
    "X_test.to_csv('./Output/xtest.csv', index=False)\n",
    "\n",
    "y_train.to_csv('./Output/ytrain.csv', index=False)\n",
    "y_test.to_csv('./Output/ytest.csv', index=False)"
   ]
  },
  {
   "cell_type": "code",
   "execution_count": null,
   "metadata": {
    "colab": {
     "base_uri": "https://localhost:8080/"
    },
    "executionInfo": {
     "elapsed": 349,
     "status": "ok",
     "timestamp": 1713458752260,
     "user": {
      "displayName": "Luis Fernando Solis Navarro",
      "userId": "12047414360120813726"
     },
     "user_tz": 180
    },
    "id": "25LDhIMT7s-u",
    "outputId": "39260379-aa11-4c07-f807-a3615af4e9a9"
   },
   "outputs": [
    {
     "data": {
      "text/plain": [
       "['./Output/minmax_scaler.joblib']"
      ]
     },
     "execution_count": 47,
     "metadata": {},
     "output_type": "execute_result"
    }
   ],
   "source": [
    "# # Ahora guardamos el Scaler\n",
    "\n",
    "# joblib.dump(scaler, './Output/minmax_scaler.joblib')"
   ]
  }
 ],
 "metadata": {
  "colab": {
   "provenance": []
  },
  "kernelspec": {
   "display_name": "DataPat-MLOps-11",
   "language": "python",
   "name": "python3"
  },
  "language_info": {
   "codemirror_mode": {
    "name": "ipython",
    "version": 3
   },
   "file_extension": ".py",
   "mimetype": "text/x-python",
   "name": "python",
   "nbconvert_exporter": "python",
   "pygments_lexer": "ipython3",
   "version": "3.10.16"
  },
  "toc": {
   "base_numbering": 1,
   "nav_menu": {},
   "number_sections": true,
   "sideBar": true,
   "skip_h1_title": false,
   "title_cell": "Table of Contents",
   "title_sidebar": "Contents",
   "toc_cell": false,
   "toc_position": {
    "height": "583px",
    "left": "0px",
    "right": "1324px",
    "top": "107px",
    "width": "212px"
   },
   "toc_section_display": "block",
   "toc_window_display": true
  }
 },
 "nbformat": 4,
 "nbformat_minor": 0
}
